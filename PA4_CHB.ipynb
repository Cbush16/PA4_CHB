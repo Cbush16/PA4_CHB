{
 "cells": [
  {
   "cell_type": "markdown",
   "id": "8533db9d-335b-4a6b-b6d2-e1389c23c7b5",
   "metadata": {
    "tags": []
   },
   "source": [
    "# Programming Assignment 4\n",
    "---\n",
    "**Author:** Caleb Bush  \n",
    "**Version:** 1.0  \n",
    "**Semester:** Spring 2024 \n",
    "\n",
    "This *notebook* contains my solution(s) to **Programming Assignment 4**"
   ]
  },
  {
   "cell_type": "markdown",
   "id": "a11ca682-b93a-46ef-b026-83670a3c51f6",
   "metadata": {
    "tags": []
   },
   "source": [
    "### Problem 1 – Swapping List Elements"
   ]
  },
  {
   "cell_type": "code",
   "execution_count": 1,
   "id": "d494307d-d2b6-4b52-b8c9-2a06704450aa",
   "metadata": {
    "tags": []
   },
   "outputs": [],
   "source": [
    "import random"
   ]
  },
  {
   "cell_type": "code",
   "execution_count": 2,
   "id": "b59b67b2-38ef-47c0-95ad-ff7ddba781c9",
   "metadata": {
    "tags": []
   },
   "outputs": [
    {
     "name": "stdout",
     "output_type": "stream",
     "text": [
      "First list: [97, 94, 74, 44, 32, 83, 1, 54, 62, 9, 88, 96, 10, 47, 61, 75]\n",
      "Swapped list: [75, 94, 74, 44, 32, 83, 1, 54, 62, 9, 88, 96, 10, 47, 61, 97]\n"
     ]
    }
   ],
   "source": [
    "def swap_first_last(numbers):\n",
    "    numbers[0], numbers[-1] = numbers[-1], numbers[0]\n",
    "    return numbers\n",
    "numbers = []\n",
    "for i in range(16):\n",
    "    numbers.append(random.randint(1,100))\n",
    "print(f'First list: {numbers}')\n",
    "swapped_numbers = swap_first_last(numbers.copy())\n",
    "print(f'Swapped list: {swapped_numbers}')"
   ]
  },
  {
   "cell_type": "markdown",
   "id": "84ce3d8b-17a0-45be-803f-18c9aab0451c",
   "metadata": {},
   "source": [
    "### Problem 2 – Encoding Data\n"
   ]
  },
  {
   "cell_type": "code",
   "execution_count": 3,
   "id": "fac0d895-8e39-4ed6-aec0-6761676695ab",
   "metadata": {
    "tags": []
   },
   "outputs": [
    {
     "name": "stdout",
     "output_type": "stream",
     "text": [
      "[65, 98, 48, 7, 22, 13, 37, 51, 3, 43, 25, 5, 9, 28, 7, 78]\n",
      "[-1, 1, 1, -1, 1, -1, -1, -1, -1, -1, -1, -1, -1, 1, -1, 1]\n"
     ]
    }
   ],
   "source": [
    "import random\n",
    "\n",
    "num = []\n",
    "for i in range(16):\n",
    "    num.append(random.randint(1, 100))\n",
    "\n",
    "def encode(num):\n",
    "    encoded_num = []\n",
    "    for number in num:\n",
    "        if number % 2 == 0:\n",
    "            encoded_num.append(1)\n",
    "        else:\n",
    "            encoded_num.append(-1)\n",
    "    return encoded_num\n",
    "\n",
    "new_num = encode(num)\n",
    "print(num)\n",
    "print(new_num)"
   ]
  },
  {
   "cell_type": "markdown",
   "id": "c5ccd4af-9c4b-481c-bdef-bc9cd1ce9f35",
   "metadata": {},
   "source": [
    "### Problem 3 – Rotating Tuples"
   ]
  },
  {
   "cell_type": "code",
   "execution_count": 4,
   "id": "cd5e642b-1dc6-4735-a8f1-10e8eb5ad87b",
   "metadata": {
    "tags": []
   },
   "outputs": [
    {
     "name": "stdout",
     "output_type": "stream",
     "text": [
      "[3, 1, 2]\n",
      "a:3 b:1 c:2\n"
     ]
    }
   ],
   "source": [
    "tupl3=[1,2,3]\n",
    "def rotate(abc_tuple):\n",
    "    tupl3[0], tupl3[1], tupl3[2] = (tupl3[2], tupl3[0], tupl3[1])\n",
    "    return tupl3\n",
    "rotate_tupl3=rotate(tupl3)\n",
    "print(rotate_tupl3)\n",
    "print(f'a:{tupl3[0]} b:{tupl3[1]} c:{tupl3[2]}')"
   ]
  },
  {
   "cell_type": "markdown",
   "id": "4f3c8257-3074-4497-82e7-7934cf2de70b",
   "metadata": {},
   "source": [
    "### Problem 4 – Creating a List of Tuples"
   ]
  },
  {
   "cell_type": "code",
   "execution_count": 1,
   "id": "7999f5df-0196-4eab-9dbe-441f2a4d3879",
   "metadata": {
    "tags": []
   },
   "outputs": [],
   "source": [
    "presidents = [\"William McKinley\",\"Theodore Roosevelt\",\"William Howard Taft\",\"Woodrow Wilson\",\"Warren G. Harding\",\"Calvin Coolidge\",\n",
    "    \"Herbert Hoover\",\"Franklin D. Roosevelt\",\"Harry S. Truman\",\"Dwight D. Eisenhower\",\"John F. Kennedy\",\"Lyndon B. Johnson\",\"Richard Nixon\",\n",
    "    \"Gerald Ford\",\"Jimmy Carter\",\"Ronald Reagan\",\"George H. W. Bush\",\"Bill Clinton\"]\n"
   ]
  },
  {
   "cell_type": "code",
   "execution_count": 2,
   "id": "3c815558-f219-43e9-8f33-a15286937e93",
   "metadata": {
    "tags": []
   },
   "outputs": [],
   "source": [
    "first_names = [\"William\",\"Theodore\",\"William\",\"Woodrow\",\"Warren\",\"Calvin\",\"Herbert\",\"Franklin\",\"Harry\",\"Dwight\",\"John\",\"Lyndon\",\"Richard\",\n",
    "    \"Gerald\",\"Jimmy\",\"Ronald\",\"George\",\"Bill\"]\n"
   ]
  },
  {
   "cell_type": "code",
   "execution_count": 3,
   "id": "639289b2-6c37-423e-976c-77d318d871d7",
   "metadata": {
    "tags": []
   },
   "outputs": [],
   "source": [
    "last_names = [\"McKinley\",\"Roosevelt\",\"Taft\",\"Wilson\",\"Harding\",\"Coolidge\",\"Hoover\",\"Roosevelt\",\"Truman\",\"Eisenhower\",\"Kennedy\",\"Johnson\",\n",
    "    \"Nixon\",\"Ford\",\"Carter\",\"Reagan\",\"Bush\",\"Clinton\"]\n"
   ]
  },
  {
   "cell_type": "code",
   "execution_count": 31,
   "id": "b1741a24-3db0-40ae-a0b2-26f0be7acd40",
   "metadata": {
    "tags": []
   },
   "outputs": [
    {
     "name": "stdout",
     "output_type": "stream",
     "text": [
      "[25, 26, 27, 28, 29, 30, 31, 32, 33, 34, 35, 36, 37, 38, 39, 40, 41, 42]\n"
     ]
    }
   ],
   "source": [
    "numbs = list(range(25,43))\n",
    "print(numbs)"
   ]
  },
  {
   "cell_type": "code",
   "execution_count": 39,
   "id": "3922f05f-cabc-4b9c-8bc6-cc231f7ac9ca",
   "metadata": {
    "tags": []
   },
   "outputs": [
    {
     "name": "stdout",
     "output_type": "stream",
     "text": [
      "[('William McKinley', 'William', 'McKinley', 25), ('Theodore Roosevelt', 'Theodore', 'Roosevelt', 26), ('William Howard Taft', 'William', 'Taft', 27), ('Woodrow Wilson', 'Woodrow', 'Wilson', 28), ('Warren G. Harding', 'Warren', 'Harding', 29), ('Calvin Coolidge', 'Calvin', 'Coolidge', 30), ('Herbert Hoover', 'Herbert', 'Hoover', 31), ('Franklin D. Roosevelt', 'Franklin', 'Roosevelt', 32), ('Harry S. Truman', 'Harry', 'Truman', 33), ('Dwight D. Eisenhower', 'Dwight', 'Eisenhower', 34), ('John F. Kennedy', 'John', 'Kennedy', 35), ('Lyndon B. Johnson', 'Lyndon', 'Johnson', 36), ('Richard Nixon', 'Richard', 'Nixon', 37), ('Gerald Ford', 'Gerald', 'Ford', 38), ('Jimmy Carter', 'Jimmy', 'Carter', 39), ('Ronald Reagan', 'Ronald', 'Reagan', 40), ('George H. W. Bush', 'George', 'Bush', 41), ('Bill Clinton', 'Bill', 'Clinton', 42)]\n"
     ]
    }
   ],
   "source": [
    "def combination(presidents, first_names, last_names, numbs):\n",
    "    Tuple_List = []\n",
    "    for president, first_name, last_name, number in zip(presidents, first_names, last_names, numbs):\n",
    "        Tuple_List.append((president, first_name, last_name, number))\n",
    "    return Tuple_List\n",
    "Tuple_List = combination(presidents, first_names, last_names, numbs)\n",
    "print(Tuple_List)"
   ]
  },
  {
   "cell_type": "markdown",
   "id": "9d53e881-a700-4a8b-9768-24e2d97802aa",
   "metadata": {},
   "source": [
    "### Problem 5 – Finding Perfect Numbers"
   ]
  },
  {
   "cell_type": "code",
   "execution_count": 18,
   "id": "29e88fb3-51dc-4894-a549-58a7bb1446f6",
   "metadata": {
    "tags": []
   },
   "outputs": [],
   "source": [
    "numbers = list(range(1,101))"
   ]
  },
  {
   "cell_type": "code",
   "execution_count": 26,
   "id": "708dd15d-16cd-4001-94a6-9906399dba9a",
   "metadata": {
    "tags": []
   },
   "outputs": [
    {
     "name": "stdout",
     "output_type": "stream",
     "text": [
      "[6, 28]\n"
     ]
    }
   ],
   "source": [
    "def perfect_number(n):\n",
    "    sum_divisors = 0\n",
    "    for i in range(1,n//2+1):\n",
    "        if n%i==0:\n",
    "            sum_divisors+=i\n",
    "    return sum_divisors==n\n",
    "\n",
    "numbers=list(range(1, 101))\n",
    "list_of_pn=list(filter(perfect_number, numbers))\n",
    "print(list_of_pn)"
   ]
  }
 ],
 "metadata": {
  "kernelspec": {
   "display_name": "Python 3 (ipykernel)",
   "language": "python",
   "name": "python3"
  },
  "language_info": {
   "codemirror_mode": {
    "name": "ipython",
    "version": 3
   },
   "file_extension": ".py",
   "mimetype": "text/x-python",
   "name": "python",
   "nbconvert_exporter": "python",
   "pygments_lexer": "ipython3",
   "version": "3.11.5"
  }
 },
 "nbformat": 4,
 "nbformat_minor": 5
}
